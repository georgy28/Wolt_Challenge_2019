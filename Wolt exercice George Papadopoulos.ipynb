{
 "cells": [
  {
   "cell_type": "code",
   "execution_count": 1,
   "metadata": {},
   "outputs": [
    {
     "data": {
      "text/plain": [
       "'C:\\\\Users\\\\georg\\\\Dropbox\\\\PythonCourse\\\\DataVisualization'"
      ]
     },
     "execution_count": 1,
     "metadata": {},
     "output_type": "execute_result"
    }
   ],
   "source": [
    "import numpy as np\n",
    "import pandas as pd\n",
    "import folium\n",
    "import webbrowser\n",
    "import os\n",
    "\n",
    "os.getcwd()"
   ]
  },
  {
   "cell_type": "code",
   "execution_count": 8,
   "metadata": {},
   "outputs": [],
   "source": [
    "df = pd.read_csv(\"pickup_times.csv\", index_col = \"location_id\")\n",
    "df_loc = pd.read_csv(\"locations.csv\", index_col = \"location_id\")\n",
    "\n",
    "# Color for the markers on the map\n",
    "def pickup_color(pickup_time, green, yellow, orange):\n",
    "    if pickup_time < green:\n",
    "        return 'green'\n",
    "    if pickup_time < yellow:\n",
    "        return 'yellow'\n",
    "    if pickup_time < orange:\n",
    "        return 'orange'\n",
    "    return 'red'\n",
    "\n",
    "#df_loc.head()"
   ]
  },
  {
   "cell_type": "code",
   "execution_count": 9,
   "metadata": {},
   "outputs": [],
   "source": [
    "df[['date', 'hour']] = df['iso_8601_timestamp'].str.split(\"T\", expand=True)\n",
    "\n",
    "# Keep only the hours (discard mins and seconds)\n",
    "df['hour'] = df['hour'].str[0:2].astype(int)\n",
    "df.drop(['iso_8601_timestamp'], axis=1, inplace=True)\n",
    "#df.head()"
   ]
  },
  {
   "cell_type": "code",
   "execution_count": 10,
   "metadata": {},
   "outputs": [],
   "source": [
    "inp_date = \"2019-01-13\"\n",
    "\n",
    "low_time = 18\n",
    "high_time = 20\n",
    "\n",
    "# df['year'] = pd.DatetimeIndex(df['iso_8601_timestamp']).year\n",
    "# df['month'] = pd.DatetimeIndex(df['iso_8601_timestamp']).month\n",
    "# df['day'] = pd.DatetimeIndex(df['iso_8601_timestamp']).day\n",
    "# df['hour'] = pd.DatetimeIndex(df['iso_8601_timestamp']).hour\n",
    "\n",
    "# df['date'] = df['day'].astype(str) + \"-\" + df['month'].astype(str) + \"-\" + df['year'].astype(str) \n",
    "\n",
    "# df.drop(['iso_8601_timestamp', 'year', 'month', 'day'], axis=1, inplace=True)\n",
    "\n",
    "# take only the necessary rows based on the date and time frame \n",
    "# and then sort (faster to sort/process the remaining dataframe)\n",
    "df_ans = df[(df['date'] == inp_date) &  (df['hour'] >= low_time) &  (df['hour'] < high_time)].sort_index()\n",
    "\n",
    "df_ans = df_ans.reset_index()\n",
    "\n",
    "#df_ans.head(17)\n",
    "\n"
   ]
  },
  {
   "cell_type": "code",
   "execution_count": null,
   "metadata": {},
   "outputs": [],
   "source": []
  },
  {
   "cell_type": "code",
   "execution_count": 11,
   "metadata": {},
   "outputs": [],
   "source": [
    "# The output is a list of values [location_id, sum of pickups from this location, median of pickup times for this location]\n",
    "\n",
    "# The output is a dictionary where it's key is the location_id (fastest way to use it in the next step when I create the map)\n",
    "# and the value is a list [median, sum_of_pickups]\n",
    "\n",
    "medians_dict = {}\n",
    "total_pickups_dict = {}\n",
    "#median = []\n",
    "\n",
    "if (len(df_ans)): # if there are results\n",
    "    prev = 0        # previous location_id\n",
    "    prev_id = -1    # previous index\n",
    "\n",
    "    for  index, row in df_ans.iterrows():\n",
    "        loc_id = row['location_id']\n",
    "        if (prev != loc_id): # found new location_id\n",
    "            if (prev != 0): # append\n",
    "                med = df_ans.loc[prev_id:index-1, \"pickup_time\"].median()\n",
    "                # med = df_ans.iloc[prev_id:index, 1].median() # either use .iloc with column = 1\n",
    "                #median.append([prev,index-prev_id, med])\n",
    "                medians_dict[prev]=med\n",
    "                total_pickups_dict[prev]= index-prev_id\n",
    "            prev = loc_id\n",
    "            prev_id = index\n",
    "\n",
    "    #add the last one\n",
    "    med = df_ans.loc[prev_id:, \"pickup_time\"].median()\n",
    "    #median.append([prev,len(df_ans)-prev_id, med])\n",
    "    medians_dict[prev]= med\n",
    "    total_pickups_dict[prev]= len(df_ans)-prev_id\n",
    "\n",
    "#median\n",
    "#medians_dict"
   ]
  },
  {
   "cell_type": "code",
   "execution_count": 12,
   "metadata": {},
   "outputs": [],
   "source": [
    "# df_pic = pd.DataFrame(median, columns=[\"location_id\", \"total_pickups\", \"median\"])\n",
    "#df_pic\n",
    "#total_pickups_dict\n",
    "\n",
    "# medians_dict = {1: 23, 35:24}\n",
    "# total_pickups_dict = {1:12, 35: 15}\n",
    "# total_pickups_dict"
   ]
  },
  {
   "cell_type": "code",
   "execution_count": 13,
   "metadata": {},
   "outputs": [
    {
     "name": "stdout",
     "output_type": "stream",
     "text": [
      "Map with results was created!\n"
     ]
    }
   ],
   "source": [
    "if (len(df_ans)): # if there are results\n",
    "    fg_name = \"Date: \" + inp_date + \", timeframe: \" + str(low_time) + \" - \" + str(high_time)\n",
    "\n",
    "    lat = df_loc['latitude'].mean()\n",
    "    lon = df_loc['longitude'].mean()\n",
    "    # I could also center the map based on the lowest median (problem if there are more than one lowest values: use average?)\n",
    "    map=folium.Map(location=[lat, lon],tiles=\"OpenStreetMap\",zoom_start=13)\n",
    "\n",
    "    all_medians = list(medians_dict.values())\n",
    "    all_total_pickups = list(total_pickups_dict.values())\n",
    "\n",
    "    min_median = min(all_medians)\n",
    "    max_median = max(all_medians)\n",
    "\n",
    "    min_pickups = min(all_total_pickups)\n",
    "    max_pickups = max(all_total_pickups)\n",
    "\n",
    "    # min_median = min(df_pic['median'])\n",
    "    # max_median = max(df_pic['median'])\n",
    "\n",
    "    # min_pickups =  min(df_pic['total_pickups'])\n",
    "    # max_pickups =  max(df_pic['total_pickups'])\n",
    "\n",
    "    fg=folium.FeatureGroup(name=fg_name)\n",
    "    fg_stats = folium.FeatureGroup(name=\"Min/Max values\")\n",
    "\n",
    "    #there might be a problem here if a place had ZERO pickups for the provided timeframe, I use zip() because I assume not\n",
    "    # for lon, lat, total, med in zip(df_loc['longitude'], df_loc['latitude'], df_pic['total_pickups'], df_pic['median']):\n",
    "    #for lon, lat, total, med in zip(df_loc['longitude'], df_loc['latitude'], df_pic['total_pickups'], df_pic['median']):\n",
    "    for index, row in df_loc.iterrows():\n",
    "        lon = row['longitude']\n",
    "        lat = row['latitude']\n",
    "\n",
    "        # check if the location_id(=index) exist in the dictionary. If yes then we can print the info on the map\n",
    "        med = medians_dict.get(index)\n",
    "        total = total_pickups_dict.get(index)\n",
    "\n",
    "        if (med != None): # found it, so add the info in order to print it on the map\n",
    "            msg = \"Median: \" + str(med) + \" minutes (\" + str(total) + \" pickups)\"\n",
    "\n",
    "            fg.add_child(folium.CircleMarker(location=[lat,lon], radius=6, tooltip =msg,\n",
    "                                             fill_color=pickup_color(med, 20, 25, 30), fill=True,  color = 'black', fill_opacity=0.7))\n",
    "            if med == min_median:\n",
    "                fg_stats.add_child(folium.Marker(location=[lat,lon],popup=(folium.Popup(\"Lowest median: \" + str(med))),\n",
    "                                       icon=folium.Icon(color=pickup_color(med, 20, 25, 30),icon_color='black')))\n",
    "            if med == max_median:\n",
    "                fg_stats.add_child(folium.Marker(location=[lat,lon],popup=(folium.Popup(\"Higest median: \" + str(med))),\n",
    "                                       icon=folium.Icon(color=pickup_color(med, 20, 25, 30),icon_color='black')))\n",
    "            if total == min_pickups:\n",
    "                fg_stats.add_child(folium.Marker(location=[lat,lon],popup=(folium.Popup(\"Min pickups: \" + str(min_pickups))),\n",
    "                                       icon=folium.Icon(color='red',icon='bar-chart', prefix='fa')))   \n",
    "            if total == max_pickups:\n",
    "                fg_stats.add_child(folium.Marker(location=[lat,lon],popup=(folium.Popup(\"Max pickups: \" + str(max_pickups))),\n",
    "                                       icon=folium.Icon(color='blue',icon='bar-chart', prefix='fa')))   \n",
    "\n",
    "    map.add_child(fg)\n",
    "    map.add_child(fg_stats)\n",
    "\n",
    "    map.add_child(folium.LayerControl())\n",
    "\n",
    "    filename = \"medians_\" + inp_date + \"_\" + str(low_time) + \"-\" + str(high_time) + \".html\"\n",
    "    map_folder =  \"map_data\" #just to save all of them in a different folder\n",
    "\n",
    "    main_dir = os.getcwd()\n",
    "    if not os.path.exists(map_folder):\n",
    "         os.mkdir(map_folder)\n",
    "\n",
    "    os.chdir(map_folder)\n",
    "\n",
    "    map.save(outfile=filename)\n",
    "\n",
    "    os.chdir(main_dir) # back to the main directory\n",
    "\n",
    "    # open the browser to display the file\n",
    "    abs_path = \"file:///\" + main_dir.replace(\"\\\\\", \"/\") + \"/\" + map_folder + \"/\" + filename\n",
    "    webbrowser.open(abs_path, new=2)\n",
    "    print(\"Map with results was created!\")\n",
    "else:\n",
    "    print(\"No results for that day/hour(s) combination! Try again\")\n",
    "\n",
    "#print(abs_path)"
   ]
  },
  {
   "cell_type": "code",
   "execution_count": 60,
   "metadata": {},
   "outputs": [],
   "source": [
    "# ls = df_ans[df_ans[\"location_id\"] == 1]['pickup_time']\n",
    "# ls\n",
    "# ls.sort_values()\n",
    "\n",
    "# https://pythonhow.com/web-mapping-with-python-and-folium/"
   ]
  },
  {
   "cell_type": "code",
   "execution_count": null,
   "metadata": {},
   "outputs": [],
   "source": [
    "#ls.median()"
   ]
  },
  {
   "cell_type": "code",
   "execution_count": null,
   "metadata": {},
   "outputs": [],
   "source": []
  },
  {
   "cell_type": "code",
   "execution_count": null,
   "metadata": {},
   "outputs": [],
   "source": []
  }
 ],
 "metadata": {
  "kernelspec": {
   "display_name": "Python 3",
   "language": "python",
   "name": "python3"
  },
  "language_info": {
   "codemirror_mode": {
    "name": "ipython",
    "version": 3
   },
   "file_extension": ".py",
   "mimetype": "text/x-python",
   "name": "python",
   "nbconvert_exporter": "python",
   "pygments_lexer": "ipython3",
   "version": "3.7.2"
  }
 },
 "nbformat": 4,
 "nbformat_minor": 2
}
